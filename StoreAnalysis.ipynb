{
 "cells": [
  {
   "cell_type": "code",
   "execution_count": 1,
   "metadata": {},
   "outputs": [],
   "source": [
    "import pandas as pd\n",
    "import sqlite3 as db"
   ]
  },
  {
   "cell_type": "code",
   "execution_count": null,
   "metadata": {},
   "outputs": [],
   "source": [
    "# !python ForDelDatabase.py"
   ]
  },
  {
   "cell_type": "code",
   "execution_count": 9,
   "metadata": {},
   "outputs": [],
   "source": [
    "# establish connection to SQL database\n",
    "cnx = db.connect('Fordel.db')\n",
    "\n",
    "#mc for mouseclick\n",
    "mc = cnx.cursor()\n",
    "\n",
    "# ORDERS\n",
    "   \n",
    "\n",
    "\n",
    "# orders_table = orders.to_sql(name=orders, con=cnx, if_exists='replace')\n",
    "\n",
    "\n",
    "# save changes from INSERT\n",
    "cnx.commit()\n",
    "# cnx.close()\n"
   ]
  },
  {
   "cell_type": "code",
   "execution_count": 3,
   "metadata": {},
   "outputs": [],
   "source": [
    "csv_orders = pd.read_csv('deldata/ORDERS.csv', index_col=None)\n",
    "\n",
    "orders = csv_orders.copy()"
   ]
  },
  {
   "cell_type": "code",
   "execution_count": 4,
   "metadata": {},
   "outputs": [
    {
     "name": "stdout",
     "output_type": "stream",
     "text": [
      "      Row ID        Order ID  Order Date   Ship Date       Ship Mode  \\\n",
      "0          1  CA-2016-152156   11/8/2016  11/11/2016    Second Class   \n",
      "1          2  CA-2016-152156   11/8/2016  11/11/2016    Second Class   \n",
      "2          3  CA-2016-138688   6/12/2016   6/16/2016    Second Class   \n",
      "3          4  US-2015-108966  10/11/2015  10/18/2015  Standard Class   \n",
      "4          5  US-2015-108966  10/11/2015  10/18/2015  Standard Class   \n",
      "...      ...             ...         ...         ...             ...   \n",
      "9989    9990  CA-2014-110422   1/21/2014   1/23/2014    Second Class   \n",
      "9990    9991  CA-2017-121258   2/26/2017    3/3/2017  Standard Class   \n",
      "9991    9992  CA-2017-121258   2/26/2017    3/3/2017  Standard Class   \n",
      "9992    9993  CA-2017-121258   2/26/2017    3/3/2017  Standard Class   \n",
      "9993    9994  CA-2017-119914    5/4/2017    5/9/2017    Second Class   \n",
      "\n",
      "     Customer ID     Customer Name    Segment        Country             City  \\\n",
      "0       CG-12520       Claire Gute   Consumer  United States        Henderson   \n",
      "1       CG-12520       Claire Gute   Consumer  United States        Henderson   \n",
      "2       DV-13045   Darrin Van Huff  Corporate  United States      Los Angeles   \n",
      "3       SO-20335    Sean O'Donnell   Consumer  United States  Fort Lauderdale   \n",
      "4       SO-20335    Sean O'Donnell   Consumer  United States  Fort Lauderdale   \n",
      "...          ...               ...        ...            ...              ...   \n",
      "9989    TB-21400  Tom Boeckenhauer   Consumer  United States            Miami   \n",
      "9990    DB-13060       Dave Brooks   Consumer  United States       Costa Mesa   \n",
      "9991    DB-13060       Dave Brooks   Consumer  United States       Costa Mesa   \n",
      "9992    DB-13060       Dave Brooks   Consumer  United States       Costa Mesa   \n",
      "9993    CC-12220      Chris Cortes   Consumer  United States      Westminster   \n",
      "\n",
      "      ... Postal Code  Region       Product ID         Category Sub-Category  \\\n",
      "0     ...       42420   South  FUR-BO-10001798        Furniture    Bookcases   \n",
      "1     ...       42420   South  FUR-CH-10000454        Furniture       Chairs   \n",
      "2     ...       90036    West  OFF-LA-10000240  Office Supplies       Labels   \n",
      "3     ...       33311   South  FUR-TA-10000577        Furniture       Tables   \n",
      "4     ...       33311   South  OFF-ST-10000760  Office Supplies      Storage   \n",
      "...   ...         ...     ...              ...              ...          ...   \n",
      "9989  ...       33180   South  FUR-FU-10001889        Furniture  Furnishings   \n",
      "9990  ...       92627    West  FUR-FU-10000747        Furniture  Furnishings   \n",
      "9991  ...       92627    West  TEC-PH-10003645       Technology       Phones   \n",
      "9992  ...       92627    West  OFF-PA-10004041  Office Supplies        Paper   \n",
      "9993  ...       92683    West  OFF-AP-10002684  Office Supplies   Appliances   \n",
      "\n",
      "                                           Product Name     Sales  Quantity  \\\n",
      "0                     Bush Somerset Collection Bookcase  261.9600         2   \n",
      "1     Hon Deluxe Fabric Upholstered Stacking Chairs,...  731.9400         3   \n",
      "2     Self-Adhesive Address Labels for Typewriters b...   14.6200         2   \n",
      "3         Bretford CR4500 Series Slim Rectangular Table  957.5775         5   \n",
      "4                        Eldon Fold 'N Roll Cart System   22.3680         2   \n",
      "...                                                 ...       ...       ...   \n",
      "9989                             Ultra Door Pull Handle   25.2480         3   \n",
      "9990  Tenex B1-RE Series Chair Mats for Low Pile Car...   91.9600         2   \n",
      "9991                              Aastra 57i VoIP phone  258.5760         2   \n",
      "9992  It's Hot Message Books with Stickers, 2 3/4\" x 5\"   29.6000         4   \n",
      "9993  Acco 7-Outlet Masterpiece Power Center, Wihtou...  243.1600         2   \n",
      "\n",
      "      Discount    Profit  \n",
      "0         0.00   41.9136  \n",
      "1         0.00  219.5820  \n",
      "2         0.00    6.8714  \n",
      "3         0.45 -383.0310  \n",
      "4         0.20    2.5164  \n",
      "...        ...       ...  \n",
      "9989      0.20    4.1028  \n",
      "9990      0.00   15.6332  \n",
      "9991      0.20   19.3932  \n",
      "9992      0.00   13.3200  \n",
      "9993      0.00   72.9480  \n",
      "\n",
      "[9994 rows x 21 columns]\n"
     ]
    }
   ],
   "source": [
    "print(orders)"
   ]
  },
  {
   "cell_type": "code",
   "execution_count": 5,
   "metadata": {},
   "outputs": [
    {
     "name": "stdout",
     "output_type": "stream",
     "text": [
      "<class 'pandas.core.frame.DataFrame'>\n",
      "RangeIndex: 9994 entries, 0 to 9993\n",
      "Data columns (total 21 columns):\n",
      " #   Column         Non-Null Count  Dtype  \n",
      "---  ------         --------------  -----  \n",
      " 0   Row ID         9994 non-null   int64  \n",
      " 1   Order ID       9994 non-null   object \n",
      " 2   Order Date     9994 non-null   object \n",
      " 3   Ship Date      9994 non-null   object \n",
      " 4   Ship Mode      9994 non-null   object \n",
      " 5   Customer ID    9994 non-null   object \n",
      " 6   Customer Name  9994 non-null   object \n",
      " 7   Segment        9994 non-null   object \n",
      " 8   Country        9994 non-null   object \n",
      " 9   City           9994 non-null   object \n",
      " 10  State          9994 non-null   object \n",
      " 11  Postal Code    9994 non-null   int64  \n",
      " 12  Region         9994 non-null   object \n",
      " 13  Product ID     9994 non-null   object \n",
      " 14  Category       9994 non-null   object \n",
      " 15  Sub-Category   9994 non-null   object \n",
      " 16  Product Name   9994 non-null   object \n",
      " 17  Sales          9994 non-null   float64\n",
      " 18  Quantity       9994 non-null   int64  \n",
      " 19  Discount       9994 non-null   float64\n",
      " 20  Profit         9994 non-null   float64\n",
      "dtypes: float64(3), int64(3), object(15)\n",
      "memory usage: 1.6+ MB\n"
     ]
    }
   ],
   "source": [
    "orders.info()"
   ]
  },
  {
   "cell_type": "code",
   "execution_count": null,
   "metadata": {},
   "outputs": [],
   "source": [
    "# create sql table using dataframe that was a csv\n",
    "\n",
    "orders_table = orders.to_sql(name='STorders', con=cnx, if_exists='replace', index=False)"
   ]
  },
  {
   "cell_type": "code",
   "execution_count": null,
   "metadata": {},
   "outputs": [],
   "source": []
  },
  {
   "cell_type": "code",
   "execution_count": null,
   "metadata": {},
   "outputs": [
    {
     "ename": "AttributeError",
     "evalue": "module 'pandas' has no attribute 'returns'",
     "output_type": "error",
     "traceback": [
      "\u001b[1;31m---------------------------------------------------------------------------\u001b[0m",
      "\u001b[1;31mAttributeError\u001b[0m                            Traceback (most recent call last)",
      "Cell \u001b[1;32mIn[13], line 7\u001b[0m\n\u001b[0;32m      3\u001b[0m csv_returns \u001b[38;5;241m=\u001b[39m pd\u001b[38;5;241m.\u001b[39mread_csv(\u001b[38;5;124m'\u001b[39m\u001b[38;5;124mdeldata/RETURNS.csv\u001b[39m\u001b[38;5;124m'\u001b[39m, index_col\u001b[38;5;241m=\u001b[39m\u001b[38;5;28;01mNone\u001b[39;00m)\n\u001b[0;32m      5\u001b[0m returns \u001b[38;5;241m=\u001b[39m csv_returns\u001b[38;5;241m.\u001b[39mcopy()\n\u001b[1;32m----> 7\u001b[0m returns_table \u001b[38;5;241m=\u001b[39m \u001b[43mpd\u001b[49m\u001b[38;5;241;43m.\u001b[39;49m\u001b[43mreturns\u001b[49m\u001b[38;5;241m.\u001b[39mto_sql(name\u001b[38;5;241m=\u001b[39mreturns, con\u001b[38;5;241m=\u001b[39mcnx, if_exists\u001b[38;5;241m=\u001b[39m\u001b[38;5;124m'\u001b[39m\u001b[38;5;124mreplace\u001b[39m\u001b[38;5;124m'\u001b[39m)\n\u001b[0;32m      9\u001b[0m \u001b[38;5;66;03m# PEOPLE\u001b[39;00m\n\u001b[0;32m     11\u001b[0m csv_people \u001b[38;5;241m=\u001b[39m pd\u001b[38;5;241m.\u001b[39mread_csv(\u001b[38;5;124m'\u001b[39m\u001b[38;5;124mdeldata/PEOPLE.csv\u001b[39m\u001b[38;5;124m'\u001b[39m, index_col\u001b[38;5;241m=\u001b[39m\u001b[38;5;28;01mNone\u001b[39;00m)\n",
      "\u001b[1;31mAttributeError\u001b[0m: module 'pandas' has no attribute 'returns'"
     ]
    }
   ],
   "source": [
    "\"\"\"# RETURNS\n",
    "\n",
    "csv_returns = pd.read_csv('deldata/RETURNS.csv', index_col=None)\n",
    "\n",
    "returns = csv_returns.copy()\n",
    "\n",
    "returns_table = pd.returns.to_sql(name='STreturns', con=cnx, if_exists='replace')\n",
    "\n",
    "# PEOPLE\n",
    "\n",
    "csv_people = pd.read_csv('deldata/PEOPLE.csv', index_col=None)\n",
    "\n",
    "people = csv_people.copy()\n",
    "\n",
    "people_table = pd.people.to_sql(name='STpeople', con=cnx, if_exists='replace')\"\"\"\n"
   ]
  },
  {
   "cell_type": "code",
   "execution_count": null,
   "metadata": {},
   "outputs": [],
   "source": []
  }
 ],
 "metadata": {
  "kernelspec": {
   "display_name": "ForageDelTab",
   "language": "python",
   "name": "python3"
  },
  "language_info": {
   "codemirror_mode": {
    "name": "ipython",
    "version": 3
   },
   "file_extension": ".py",
   "mimetype": "text/x-python",
   "name": "python",
   "nbconvert_exporter": "python",
   "pygments_lexer": "ipython3",
   "version": "3.12.2"
  }
 },
 "nbformat": 4,
 "nbformat_minor": 2
}
