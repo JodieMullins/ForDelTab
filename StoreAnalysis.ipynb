{
 "cells": [
  {
   "cell_type": "code",
   "execution_count": null,
   "metadata": {},
   "outputs": [],
   "source": [
    "import pandas as pd\n",
    "import sqlite3 as db"
   ]
  },
  {
   "cell_type": "code",
   "execution_count": null,
   "metadata": {},
   "outputs": [],
   "source": [
    "# !python ForDelDatabase.py"
   ]
  },
  {
   "cell_type": "markdown",
   "metadata": {},
   "source": [
    "# Create Database"
   ]
  },
  {
   "cell_type": "code",
   "execution_count": null,
   "metadata": {},
   "outputs": [],
   "source": [
    "# establish connection to SQL database\n",
    "cnx = db.connect('Fordel.db')\n",
    "\n",
    "#mc for mouseclick\n",
    "mc = cnx.cursor()\n",
    "\n",
    "cnx.commit()\n",
    "# cnx.close()\n"
   ]
  },
  {
   "cell_type": "code",
   "execution_count": null,
   "metadata": {},
   "outputs": [],
   "source": [
    "# df_people = pd.read_excel('deldata/tabstoreUpdated.xlsx', sheet_name='People', engine='openpyxl')\n",
    "csv_people = pd.read_csv('deldata/PEOPLE.csv', index_col=None)\n",
    "\n",
    "people = csv_people.copy()\n",
    "\n",
    "display(people)\n"
   ]
  },
  {
   "cell_type": "code",
   "execution_count": null,
   "metadata": {},
   "outputs": [],
   "source": [
    "people.info()"
   ]
  },
  {
   "cell_type": "code",
   "execution_count": null,
   "metadata": {},
   "outputs": [],
   "source": [
    "# create sql table using dataframe that was a csv\n",
    "people_table = people.to_sql(name='STpeople', con=cnx, if_exists='replace', index=False)\n"
   ]
  },
  {
   "cell_type": "code",
   "execution_count": null,
   "metadata": {},
   "outputs": [],
   "source": [
    "# trying a different way to read in the data directly from Excel file\n",
    "# using update Excel file, so need openpyxl \n",
    "df_returns = pd.read_excel('deldata/tabstoreUpdated.xlsx', sheet_name='Returns', engine='openpyxl')\n",
    "\n",
    "returns = df_returns.copy()\n",
    "\n",
    "display(returns)"
   ]
  },
  {
   "cell_type": "code",
   "execution_count": null,
   "metadata": {},
   "outputs": [],
   "source": [
    "returns.info()"
   ]
  },
  {
   "cell_type": "code",
   "execution_count": null,
   "metadata": {},
   "outputs": [],
   "source": [
    "# add dataframes to sql database as separate tables\n",
    "\n",
    "returns_table = returns.to_sql(name='STreturns', con=cnx, if_exists='replace', index=False)"
   ]
  },
  {
   "cell_type": "markdown",
   "metadata": {},
   "source": [
    " # Read In Orders"
   ]
  },
  {
   "cell_type": "code",
   "execution_count": null,
   "metadata": {},
   "outputs": [],
   "source": [
    "quartered_orders = pd.read_excel('deldata/tabstoreUpdated.xlsx', sheet_name='OrdersQuartered', engine='openpyxl')\n",
    "\n",
    "orders = quartered_orders.copy()\n",
    "\n",
    "display(orders)"
   ]
  },
  {
   "cell_type": "code",
   "execution_count": null,
   "metadata": {},
   "outputs": [],
   "source": [
    "orders.info()"
   ]
  },
  {
   "cell_type": "code",
   "execution_count": null,
   "metadata": {},
   "outputs": [],
   "source": [
    "print(orders.columns)"
   ]
  },
  {
   "cell_type": "markdown",
   "metadata": {},
   "source": [
    "# Clean Orders\n",
    "\n",
    "Data cleaning also performed in Updated .xlsx file within Orders Quartered: \n",
    "    > Serialization of dates for easy delivery time calculation using DAYS function.\n",
    "    > SPLIT utilized to make better use of Delivery details in new, fewer character column for easier reading. \n",
    "    > Separated year from serialized date for easy integer functionality\n",
    "Other steps: \n",
    "    > Logical reasoning within IFS assigned order dates a fiscal quarter"
   ]
  },
  {
   "cell_type": "code",
   "execution_count": null,
   "metadata": {},
   "outputs": [],
   "source": [
    "cleaned_orders = orders.drop(['Row ID', 'MONTH', \n",
    "       'Ship Mode', 'SAVE', 'SPACE',\n",
    "       'Customer Name', 'Country', \n",
    "       'Postal Code'], axis=1, inplace=False)"
   ]
  },
  {
   "cell_type": "code",
   "execution_count": null,
   "metadata": {},
   "outputs": [],
   "source": [
    "cleaned_orders.info()"
   ]
  },
  {
   "cell_type": "code",
   "execution_count": null,
   "metadata": {},
   "outputs": [],
   "source": [
    "orders = cleaned_orders\n",
    "\n",
    "orders_table = orders.to_sql(name='STorders', con=cnx, if_exists='replace', index=False)"
   ]
  }
 ],
 "metadata": {
  "kernelspec": {
   "display_name": "ForageDelTab",
   "language": "python",
   "name": "python3"
  },
  "language_info": {
   "codemirror_mode": {
    "name": "ipython",
    "version": 3
   },
   "file_extension": ".py",
   "mimetype": "text/x-python",
   "name": "python",
   "nbconvert_exporter": "python",
   "pygments_lexer": "ipython3",
   "version": "3.12.2"
  }
 },
 "nbformat": 4,
 "nbformat_minor": 2
}
